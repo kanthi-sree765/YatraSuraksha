{
 "cells": [
  {
   "cell_type": "code",
   "execution_count": 9,
   "id": "00846613-0e06-49d7-bc65-452f268711fd",
   "metadata": {},
   "outputs": [
    {
     "name": "stdout",
     "output_type": "stream",
     "text": [
      "Deploying contract... ⛓️\n",
      "✅ Contract deployed at address: 0xA7598ED10DA4e016Ad520dD95F8677a4fAe84c70\n"
     ]
    }
   ],
   "source": [
    "import json\n",
    "from web3 import Web3\n",
    "\n",
    "# Connect to local Ganache blockchain\n",
    "w3 = Web3(Web3.HTTPProvider('http://127.0.0.1:7545'))\n",
    "w3.eth.default_account = w3.eth.accounts[0]\n",
    "\n",
    "# Load ABI\n",
    "with open('build/TouristIDRegistry.abi') as f:\n",
    "    abi = json.load(f)\n",
    "\n",
    "# Load BIN properly (extract only the \"object\" field)\n",
    "with open('build/TouristIDRegistry.bin') as f:\n",
    "    bin_json = json.load(f)  # It's a full JSON object\n",
    "\n",
    "bytecode = bin_json['object']  # Extract only the actual bytecode\n",
    "\n",
    "# Create contract instance\n",
    "TouristIDRegistry = w3.eth.contract(abi=abi, bytecode=bytecode)\n",
    "\n",
    "# Deploy contract\n",
    "print(\"Deploying contract... ⛓️\")\n",
    "tx_hash = TouristIDRegistry.constructor().transact()\n",
    "tx_receipt = w3.eth.wait_for_transaction_receipt(tx_hash)\n",
    "\n",
    "print(f\"✅ Contract deployed at address: {tx_receipt.contractAddress}\")\n"
   ]
  },
  {
   "cell_type": "code",
   "execution_count": 14,
   "id": "1c2d1513-cb5c-428b-8cdc-72b543480565",
   "metadata": {},
   "outputs": [
    {
     "name": "stdout",
     "output_type": "stream",
     "text": [
      "Geo-fencing table populated with realistic access and risk levels!\n"
     ]
    }
   ],
   "source": [
    "#To fill geo fencing table \n",
    "\n",
    "import json\n",
    "import psycopg2\n",
    "from psycopg2.extras import Json\n",
    "\n",
    "# PostgreSQL connection\n",
    "conn = psycopg2.connect(\n",
    "    dbname=\"yatrasuraksha_db\",\n",
    "    user=\"postgres\",\n",
    "    password=\"postgres\",\n",
    "    host=\"localhost\",\n",
    "    port=\"5432\"\n",
    ")\n",
    "cur = conn.cursor()\n",
    "\n",
    "# Load GeoJSON\n",
    "with open(\"zones.geojson\", encoding=\"utf-8\") as f:\n",
    "    data = json.load(f)\n",
    "\n",
    "# Substring-based risk mapping\n",
    "def classify_access(text):\n",
    "    if not text:\n",
    "        return \"LOW\", \"Check local rules before visiting\"\n",
    "\n",
    "    t = text.lower()\n",
    "\n",
    "    if \"national park\" in t:\n",
    "        return \"HIGH\", \"Permits required; follow park guidelines\"\n",
    "    if \"wildlife sanctuary\" in t or \"wls\" in t:\n",
    "        return \"HIGH\", \"Entry allowed; avoid core wildlife areas\"\n",
    "    if \"bird sanctuary\" in t:\n",
    "        return \"HIGH\", \"Entry allowed; avoid core wildlife areas\"\n",
    "    if \"community reserve\" in t:\n",
    "        return \"MEDIUM\", \"Limited access area; follow local guidelines\"\n",
    "    if \"conservation\" in t:\n",
    "        return \"MEDIUM\", \"Restricted activities; follow guidelines\"\n",
    "\n",
    "    return \"LOW\", \"Check local rules before visiting\"  # fallback\n",
    "\n",
    "# Insert zones\n",
    "for feature in data['features']:\n",
    "    props = feature['properties'] or {}\n",
    "    name = props.get('name', 'Unnamed Zone')\n",
    "    designation = props.get('designation') or name  # prefer designation, fallback to name\n",
    "    coordinates = feature['geometry']\n",
    "\n",
    "    risk_level, description = classify_access(designation)\n",
    "\n",
    "    cur.execute(\"\"\"\n",
    "        INSERT INTO geo_fencing_zone (name, coordinates, risk_level, description)\n",
    "        VALUES (%s, %s, %s, %s)\n",
    "    \"\"\", (name, Json(coordinates), risk_level, description))\n",
    "\n",
    "conn.commit()\n",
    "cur.close()\n",
    "conn.close()\n",
    "\n",
    "print(\"Geo-fencing table populated with realistic access and risk levels!\")\n"
   ]
  },
  {
   "cell_type": "code",
   "execution_count": null,
   "id": "f0b318bd-3f85-45b2-b92d-f9e49db866a3",
   "metadata": {},
   "outputs": [],
   "source": []
  }
 ],
 "metadata": {
  "kernelspec": {
   "display_name": "Python 3 (ipykernel)",
   "language": "python",
   "name": "python3"
  },
  "language_info": {
   "codemirror_mode": {
    "name": "ipython",
    "version": 3
   },
   "file_extension": ".py",
   "mimetype": "text/x-python",
   "name": "python",
   "nbconvert_exporter": "python",
   "pygments_lexer": "ipython3",
   "version": "3.13.3"
  }
 },
 "nbformat": 4,
 "nbformat_minor": 5
}
